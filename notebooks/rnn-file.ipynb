{
 "cells": [
  {
   "cell_type": "code",
   "execution_count": null,
   "metadata": {},
   "outputs": [],
   "source": [
    "from pathlib import Path\n",
    "\n",
    "from IPython.display import Audio\n",
    "from rnnoise_wrapper import RNNoise\n"
   ]
  },
  {
   "cell_type": "code",
   "execution_count": null,
   "metadata": {},
   "outputs": [],
   "source": [
    "mediapath = Path().cwd().resolve().parent / \"media\"\n",
    "list(mediapath.iterdir())\n"
   ]
  },
  {
   "cell_type": "code",
   "execution_count": null,
   "metadata": {},
   "outputs": [],
   "source": [
    "insample = mediapath / \"input1.wav\"\n",
    "outsample = mediapath / \"output1-rnn.wav\"\n"
   ]
  },
  {
   "cell_type": "code",
   "execution_count": null,
   "metadata": {},
   "outputs": [],
   "source": [
    "Audio(insample)\n"
   ]
  },
  {
   "cell_type": "code",
   "execution_count": null,
   "metadata": {},
   "outputs": [],
   "source": [
    "# denoiser = RNNoise(f_name_lib=\"librnnoise_default\")\n",
    "denoiser = RNNoise()\n",
    "\n",
    "audio = denoiser.read_wav(insample)\n",
    "denoised_audio = denoiser.filter(audio)\n",
    "denoiser.write_wav(outsample, denoised_audio)\n"
   ]
  },
  {
   "cell_type": "code",
   "execution_count": null,
   "metadata": {},
   "outputs": [],
   "source": [
    "Audio(outsample)"
   ]
  }
 ],
 "metadata": {
  "kernelspec": {
   "display_name": "Python 3.10.6 ('audio-processing-jmU4GiL0-py3.10')",
   "language": "python",
   "name": "python3"
  },
  "language_info": {
   "codemirror_mode": {
    "name": "ipython",
    "version": 3
   },
   "file_extension": ".py",
   "mimetype": "text/x-python",
   "name": "python",
   "nbconvert_exporter": "python",
   "pygments_lexer": "ipython3",
   "version": "3.10.6"
  },
  "orig_nbformat": 4,
  "vscode": {
   "interpreter": {
    "hash": "fffc3abd9b652aee9f895c56f0ce6279f6ebcbfd1bd4a2d7ff94c2073f5641d4"
   }
  }
 },
 "nbformat": 4,
 "nbformat_minor": 2
}
