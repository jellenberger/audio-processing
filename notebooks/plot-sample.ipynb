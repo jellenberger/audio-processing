{
 "cells": [
  {
   "cell_type": "code",
   "execution_count": null,
   "id": "bf413f8c",
   "metadata": {},
   "outputs": [],
   "source": [
    "%matplotlib inline\n",
    "from pathlib import Path\n",
    "\n",
    "import matplotlib.pyplot as plt\n",
    "import librosa.display\n",
    "from IPython.display import Audio\n",
    "import librosa"
   ]
  },
  {
   "cell_type": "code",
   "execution_count": null,
   "id": "561ca3fa",
   "metadata": {},
   "outputs": [],
   "source": [
    "mediapath = Path().cwd().resolve().parent / \"media\"\n",
    "mediapath\n"
   ]
  },
  {
   "cell_type": "code",
   "execution_count": null,
   "id": "b2a99cc9",
   "metadata": {},
   "outputs": [],
   "source": [
    "list(mediapath.iterdir())"
   ]
  },
  {
   "cell_type": "code",
   "execution_count": null,
   "id": "a14e69a9",
   "metadata": {},
   "outputs": [],
   "source": [
    "sample = mediapath / \"input1.wav\"\n",
    "Audio(sample)\n"
   ]
  },
  {
   "cell_type": "code",
   "execution_count": null,
   "id": "11e820ac",
   "metadata": {},
   "outputs": [],
   "source": [
    "x, sr = librosa.load(sample, sr=44100)\n",
    "x.shape\n"
   ]
  },
  {
   "cell_type": "code",
   "execution_count": null,
   "id": "119adb23",
   "metadata": {},
   "outputs": [],
   "source": [
    "plt.figure(figsize=(14, 5))\n",
    "librosa.display.waveshow(x, sr=sr)\n"
   ]
  },
  {
   "cell_type": "code",
   "execution_count": null,
   "id": "2433b26b",
   "metadata": {},
   "outputs": [],
   "source": [
    "X = librosa.stft(x)\n",
    "Xdb = librosa.amplitude_to_db(abs(X))\n",
    "plt.figure(figsize=(14, 5))\n",
    "librosa.display.specshow(Xdb, sr=sr, x_axis=\"time\", y_axis=\"hz\")\n",
    "plt.colorbar()\n"
   ]
  }
 ],
 "metadata": {
  "kernelspec": {
   "display_name": "Python 3.10.6 ('audio-processing-jmU4GiL0-py3.10')",
   "language": "python",
   "name": "python3"
  },
  "language_info": {
   "codemirror_mode": {
    "name": "ipython",
    "version": 3
   },
   "file_extension": ".py",
   "mimetype": "text/x-python",
   "name": "python",
   "nbconvert_exporter": "python",
   "pygments_lexer": "ipython3",
   "version": "3.10.6"
  },
  "vscode": {
   "interpreter": {
    "hash": "fffc3abd9b652aee9f895c56f0ce6279f6ebcbfd1bd4a2d7ff94c2073f5641d4"
   }
  }
 },
 "nbformat": 4,
 "nbformat_minor": 5
}
