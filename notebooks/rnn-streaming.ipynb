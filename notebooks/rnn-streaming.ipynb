{
 "cells": [
  {
   "cell_type": "code",
   "execution_count": null,
   "metadata": {},
   "outputs": [],
   "source": [
    "from pathlib import Path\n",
    "import time\n",
    "\n",
    "import pyaudio\n",
    "from pydub import AudioSegment\n",
    "import numpy as np\n",
    "from rnnoise_wrapper import RNNoise\n",
    "import soundfile as sf\n"
   ]
  },
  {
   "cell_type": "code",
   "execution_count": null,
   "metadata": {},
   "outputs": [],
   "source": [
    "FORMAT = pyaudio.paInt16\n",
    "WIDTH = 2\n",
    "CHANNELS = 1\n",
    "RATE = 22050\n",
    "CHUNK = 2646\n"
   ]
  },
  {
   "cell_type": "code",
   "execution_count": null,
   "metadata": {},
   "outputs": [],
   "source": [
    "p = pyaudio.PyAudio()\n",
    "denoiser = RNNoise()\n",
    "\n",
    "\n",
    "def callback(raw_in, frame_count, time_info, flag):\n",
    "    raw_out = denoiser.filter(raw_in, sample_rate=RATE)\n",
    "    return raw_out, pyaudio.paContinue\n",
    "\n",
    "\n",
    "stream = p.open(\n",
    "    format=pyaudio.paInt16,\n",
    "    channels=CHANNELS,\n",
    "    rate=RATE,\n",
    "    output=True,\n",
    "    input=True,\n",
    "    frames_per_buffer=CHUNK,\n",
    "    stream_callback=callback,\n",
    ")\n",
    "\n",
    "stream.start_stream()\n",
    "\n",
    "while stream.is_active():\n",
    "    time.sleep(10)\n",
    "    stream.stop_stream()\n",
    "    print(\"Stream is stopped\")\n",
    "\n",
    "stream.close()\n",
    "p.terminate()\n"
   ]
  },
  {
   "cell_type": "code",
   "execution_count": null,
   "metadata": {},
   "outputs": [],
   "source": []
  }
 ],
 "metadata": {
  "kernelspec": {
   "display_name": "Python 3.10.6 ('audio-processing-jmU4GiL0-py3.10')",
   "language": "python",
   "name": "python3"
  },
  "language_info": {
   "codemirror_mode": {
    "name": "ipython",
    "version": 3
   },
   "file_extension": ".py",
   "mimetype": "text/x-python",
   "name": "python",
   "nbconvert_exporter": "python",
   "pygments_lexer": "ipython3",
   "version": "3.10.6"
  },
  "orig_nbformat": 4,
  "vscode": {
   "interpreter": {
    "hash": "fffc3abd9b652aee9f895c56f0ce6279f6ebcbfd1bd4a2d7ff94c2073f5641d4"
   }
  }
 },
 "nbformat": 4,
 "nbformat_minor": 2
}
