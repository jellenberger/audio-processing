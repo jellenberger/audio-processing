{
 "cells": [
  {
   "cell_type": "code",
   "execution_count": null,
   "metadata": {},
   "outputs": [],
   "source": [
    "from pathlib import Path\n",
    "\n",
    "from IPython.display import Audio\n",
    "import librosa\n",
    "import numpy as np\n",
    "import soundfile as sf\n"
   ]
  },
  {
   "cell_type": "code",
   "execution_count": null,
   "metadata": {},
   "outputs": [],
   "source": [
    "mediapath = Path().cwd().resolve().parent / \"media\"\n",
    "list(mediapath.iterdir())\n"
   ]
  },
  {
   "cell_type": "code",
   "execution_count": null,
   "metadata": {},
   "outputs": [],
   "source": [
    "insample = mediapath / \"input1.wav\"\n",
    "# outsample = mediapath / \"output1-stft.wav\"\n"
   ]
  },
  {
   "cell_type": "code",
   "execution_count": null,
   "metadata": {},
   "outputs": [],
   "source": [
    "Audio(insample)"
   ]
  },
  {
   "cell_type": "code",
   "execution_count": null,
   "metadata": {},
   "outputs": [],
   "source": [
    "y, sr = librosa.load(insample)\n",
    "print(y.shape, sr)\n"
   ]
  },
  {
   "cell_type": "code",
   "execution_count": null,
   "metadata": {},
   "outputs": [],
   "source": [
    "S_full, phase = librosa.magphase(librosa.stft(y))\n",
    "\n",
    "S_filter = librosa.decompose.nn_filter(\n",
    "    S_full,\n",
    "    aggregate=np.median,\n",
    "    metric=\"cosine\",\n",
    "    width=int(librosa.time_to_frames(2, sr=sr)),\n",
    ")\n",
    "\n",
    "S_filter = np.minimum(S_full, S_filter)\n",
    "margin_i, margin_v = 1, 1\n",
    "power = 1\n",
    "\n",
    "mask_i = librosa.util.softmask(S_filter, margin_i * (S_full - S_filter), power=power)\n",
    "\n",
    "mask_v = librosa.util.softmask(S_full - S_filter, margin_v * S_filter, power=power)\n"
   ]
  },
  {
   "cell_type": "code",
   "execution_count": null,
   "metadata": {},
   "outputs": [],
   "source": [
    "S_foreground = mask_v * S_full\n",
    "S_background = mask_i * S_full\n",
    "D_foreground = S_foreground * phase\n",
    "y_foreground = librosa.istft(D_foreground)\n",
    "\n",
    "Audio(y_foreground, rate=sr)\n"
   ]
  },
  {
   "cell_type": "code",
   "execution_count": null,
   "metadata": {},
   "outputs": [],
   "source": []
  }
 ],
 "metadata": {
  "kernelspec": {
   "display_name": "Python 3.10.6 ('audio-processing-jmU4GiL0-py3.10')",
   "language": "python",
   "name": "python3"
  },
  "language_info": {
   "codemirror_mode": {
    "name": "ipython",
    "version": 3
   },
   "file_extension": ".py",
   "mimetype": "text/x-python",
   "name": "python",
   "nbconvert_exporter": "python",
   "pygments_lexer": "ipython3",
   "version": "3.10.6"
  },
  "orig_nbformat": 4,
  "vscode": {
   "interpreter": {
    "hash": "fffc3abd9b652aee9f895c56f0ce6279f6ebcbfd1bd4a2d7ff94c2073f5641d4"
   }
  }
 },
 "nbformat": 4,
 "nbformat_minor": 2
}
